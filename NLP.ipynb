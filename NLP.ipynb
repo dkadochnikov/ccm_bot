{
 "cells": [
  {
   "cell_type": "markdown",
   "id": "8a71e99a",
   "metadata": {},
   "source": [
    "Код с документации HuggingFace"
   ]
  },
  {
   "cell_type": "code",
   "execution_count": 46,
   "id": "82a18168",
   "metadata": {},
   "outputs": [
    {
     "name": "stderr",
     "output_type": "stream",
     "text": [
      "loading file vocab.json from cache at C:\\Users\\Daniel/.cache\\huggingface\\hub\\models--tinkoff-ai--ruDialoGPT-medium\\snapshots\\e51fe3a6ea7037f3f53938e3a58ee6e40a82fce3\\vocab.json\n",
      "loading file merges.txt from cache at C:\\Users\\Daniel/.cache\\huggingface\\hub\\models--tinkoff-ai--ruDialoGPT-medium\\snapshots\\e51fe3a6ea7037f3f53938e3a58ee6e40a82fce3\\merges.txt\n",
      "loading file tokenizer.json from cache at None\n",
      "loading file added_tokens.json from cache at C:\\Users\\Daniel/.cache\\huggingface\\hub\\models--tinkoff-ai--ruDialoGPT-medium\\snapshots\\e51fe3a6ea7037f3f53938e3a58ee6e40a82fce3\\added_tokens.json\n",
      "loading file special_tokens_map.json from cache at C:\\Users\\Daniel/.cache\\huggingface\\hub\\models--tinkoff-ai--ruDialoGPT-medium\\snapshots\\e51fe3a6ea7037f3f53938e3a58ee6e40a82fce3\\special_tokens_map.json\n",
      "loading file tokenizer_config.json from cache at C:\\Users\\Daniel/.cache\\huggingface\\hub\\models--tinkoff-ai--ruDialoGPT-medium\\snapshots\\e51fe3a6ea7037f3f53938e3a58ee6e40a82fce3\\tokenizer_config.json\n",
      "Adding @@ПЕРВЫЙ@@ to the vocabulary\n",
      "Adding @@ВТОРОЙ@@ to the vocabulary\n",
      "Adding <FIRST_SPEAKER> to the vocabulary\n",
      "Adding <SECOND_SPEAKER> to the vocabulary\n",
      "Special tokens have been added in the vocabulary, make sure the associated word embeddings are fine-tuned or trained.\n",
      "C:\\Users\\Daniel\\anaconda3\\envs\\dl\\lib\\site-packages\\transformers\\models\\auto\\modeling_auto.py:1132: FutureWarning: The class `AutoModelWithLMHead` is deprecated and will be removed in a future version. Please use `AutoModelForCausalLM` for causal language models, `AutoModelForMaskedLM` for masked language models and `AutoModelForSeq2SeqLM` for encoder-decoder models.\n",
      "  warnings.warn(\n",
      "loading configuration file config.json from cache at C:\\Users\\Daniel/.cache\\huggingface\\hub\\models--tinkoff-ai--ruDialoGPT-medium\\snapshots\\e51fe3a6ea7037f3f53938e3a58ee6e40a82fce3\\config.json\n",
      "Model config GPT2Config {\n",
      "  \"_name_or_path\": \"tinkoff-ai/ruDialoGPT-medium\",\n",
      "  \"activation_function\": \"gelu_new\",\n",
      "  \"attn_pdrop\": 0.1,\n",
      "  \"bos_token_id\": 50256,\n",
      "  \"embd_pdrop\": 0.1,\n",
      "  \"eos_token_id\": 50256,\n",
      "  \"id2label\": {\n",
      "    \"0\": \"LABEL_0\"\n",
      "  },\n",
      "  \"initializer_range\": 0.02,\n",
      "  \"label2id\": {\n",
      "    \"LABEL_0\": 0\n",
      "  },\n",
      "  \"layer_norm_epsilon\": 1e-05,\n",
      "  \"model_type\": \"gpt2\",\n",
      "  \"n_ctx\": 2048,\n",
      "  \"n_embd\": 1024,\n",
      "  \"n_head\": 16,\n",
      "  \"n_inner\": null,\n",
      "  \"n_layer\": 24,\n",
      "  \"n_positions\": 2048,\n",
      "  \"n_special\": 0,\n",
      "  \"output_past\": true,\n",
      "  \"predict_special_tokens\": true,\n",
      "  \"reorder_and_upcast_attn\": false,\n",
      "  \"resid_pdrop\": 0.1,\n",
      "  \"scale_attn_by_inverse_layer_idx\": false,\n",
      "  \"scale_attn_weights\": true,\n",
      "  \"summary_activation\": null,\n",
      "  \"summary_first_dropout\": 0.1,\n",
      "  \"summary_proj_to_labels\": true,\n",
      "  \"summary_type\": \"cls_index\",\n",
      "  \"summary_use_proj\": true,\n",
      "  \"torch_dtype\": \"float32\",\n",
      "  \"transformers_version\": \"4.24.0\",\n",
      "  \"use_cache\": true,\n",
      "  \"vocab_size\": 50261\n",
      "}\n",
      "\n",
      "loading weights file pytorch_model.bin from cache at C:\\Users\\Daniel/.cache\\huggingface\\hub\\models--tinkoff-ai--ruDialoGPT-medium\\snapshots\\e51fe3a6ea7037f3f53938e3a58ee6e40a82fce3\\pytorch_model.bin\n",
      "All model checkpoint weights were used when initializing GPT2LMHeadModel.\n",
      "\n",
      "All the weights of GPT2LMHeadModel were initialized from the model checkpoint at tinkoff-ai/ruDialoGPT-medium.\n",
      "If your task is similar to the task the model of the checkpoint was trained on, you can already use GPT2LMHeadModel for predictions without further training.\n",
      "Setting `pad_token_id` to `eos_token_id`:50257 for open-end generation.\n"
     ]
    },
    {
     "data": {
      "text/plain": [
       "['@@ПЕРВЫЙ@@ привет @@ВТОРОЙ@@ привет @@ПЕРВЫЙ@@ как дела? @@ВТОРОЙ@@нормально, а у тебя? Как сам? Что нового в жизни? Я вот на работе сижу и думаю, чем заняться. А ты? Чем занимаешься? =) ^_^@@ВТОРОЙ@@',\n",
       " '@@ПЕРВЫЙ@@ привет @@ВТОРОЙ@@ привет @@ПЕРВЫЙ@@ как дела? @@ВТОРОЙ@@привет  хорошо. а у тебя как? что делаешь? чем занимаешься? я тоже хочу погулять с тобой 👉🏻\\u200d♀️�',\n",
       " '@@ПЕРВЫЙ@@ привет @@ВТОРОЙ@@ привет @@ПЕРВЫЙ@@ как дела? @@ВТОРОЙ@@нормально, а у тебя? Как сама? Чем занимаешься? Что делаешь? Я вот сижу в интернете и не понимаю, что происходит. 🤷\\u200d♂�']"
      ]
     },
     "execution_count": 46,
     "metadata": {},
     "output_type": "execute_result"
    }
   ],
   "source": [
    "import torch\n",
    "from transformers import AutoTokenizer, AutoModelWithLMHead\n",
    "\n",
    "tokenizer = AutoTokenizer.from_pretrained('tinkoff-ai/ruDialoGPT-medium')\n",
    "model = AutoModelWithLMHead.from_pretrained('tinkoff-ai/ruDialoGPT-medium')\n",
    "inputs = tokenizer('@@ПЕРВЫЙ@@ привет @@ВТОРОЙ@@ привет @@ПЕРВЫЙ@@ как дела? @@ВТОРОЙ@@', return_tensors='pt')\n",
    "generated_token_ids = model.generate(\n",
    "    **inputs,\n",
    "    top_k=10,\n",
    "    top_p=0.95,\n",
    "    num_beams=3,\n",
    "    num_return_sequences=3,\n",
    "    do_sample=True,\n",
    "    no_repeat_ngram_size=2,\n",
    "    temperature=1.2,\n",
    "    repetition_penalty=1.2,\n",
    "    length_penalty=1.0,\n",
    "    eos_token_id=50257,\n",
    "    max_new_tokens=40\n",
    ")\n",
    "context_with_response = [tokenizer.decode(sample_token_ids) for sample_token_ids in generated_token_ids]\n",
    "context_with_response\n"
   ]
  },
  {
   "cell_type": "markdown",
   "id": "376ceb4d",
   "metadata": {},
   "source": [
    "В качестве открытого чата возьмём CCM - чат Chess Club Moscow, в котором обсуждают шахматы и договариваются об играх и турнирах в клубе: https://t.me/pairwccm"
   ]
  },
  {
   "cell_type": "code",
   "execution_count": 47,
   "id": "c68d0dfd",
   "metadata": {},
   "outputs": [],
   "source": [
    "import json\n",
    "with open(\"ccm.json\", \"r\", encoding=\"utf-8\") as f:\n",
    "    data = json.load(f)"
   ]
  },
  {
   "cell_type": "code",
   "execution_count": 48,
   "id": "5bd1b7e2",
   "metadata": {},
   "outputs": [
    {
     "data": {
      "text/plain": [
       "dict_keys(['id', 'type', 'date', 'date_unixtime', 'actor', 'actor_id', 'action', 'title', 'text', 'text_entities'])"
      ]
     },
     "execution_count": 48,
     "metadata": {},
     "output_type": "execute_result"
    }
   ],
   "source": [
    "data[\"messages\"][0].keys()"
   ]
  },
  {
   "cell_type": "code",
   "execution_count": 49,
   "id": "a1696382",
   "metadata": {},
   "outputs": [],
   "source": [
    "#data"
   ]
  },
  {
   "cell_type": "markdown",
   "id": "cfa3d0f6",
   "metadata": {},
   "source": [
    "Удаляем пустые сообщения и прочие артефакты. Сохраняем идентификаторы отправителей"
   ]
  },
  {
   "cell_type": "code",
   "execution_count": 50,
   "id": "894b1d3b",
   "metadata": {},
   "outputs": [],
   "source": [
    "condition = lambda msg: len(msg[\"text\"]) > 0 and type(msg[\"text\"]) == str\n",
    "\n",
    "raw_texts = [msg[\"text\"] for msg in data[\"messages\"] if condition(msg)]\n",
    "users = [msg.get(\"from_id\") for msg in data[\"messages\"] if condition(msg)]"
   ]
  },
  {
   "cell_type": "markdown",
   "id": "ad59dc27",
   "metadata": {},
   "source": [
    "При обработке сообщений если один и тот же пользователь отправляет несколько сообщений подряд, то склеиваем их в одно сообщение. Так как при обучении исходной модели использовались метки @@ПЕРВЫЙ@@ и @@ВТОРОЙ@@, то добавим их в нашу выборку: если прошлое сообщение отправил @@ПЕРВЫЙ@@, то следующее отправляет @@ВТОРОЙ@@ и наоборот. Эти метки добавляем перед сообщением.\n",
    "\n",
    "Также я пробовал другой подход: чтобы модель лучше понимала, как правильно отвечать на вопросы, я пробовал добавлять каждое новое сообщение к предыдущему, то есть \"@@ПЕРВЫЙ@@ <сообщение 1> @@ВТОРОЙ@@ <сообщение 2>; @@ВТОРОЙ@@ <сообщение 2> @@ПЕРВЫЙ@@ <сообщение 3>...\", но при таком подходе качество сгенерированных сообщений сильно ухудшилось"
   ]
  },
  {
   "cell_type": "code",
   "execution_count": 53,
   "id": "47ecf0a8",
   "metadata": {},
   "outputs": [],
   "source": [
    "first = \"@@ПЕРВЫЙ@@ \"\n",
    "second = \"@@ВТОРОЙ@@ \"\n",
    "texts = [first + raw_texts[0]]\n",
    "last = 0\n",
    "for i in range(1, len(raw_texts)):\n",
    "    if users[i] == users[i-1]:\n",
    "        texts[-1] += \". \" + raw_texts[i]\n",
    "    else:\n",
    "        #texts[-1] += second + raw_texts[i]\n",
    "        #texts.append(first + raw_texts[i])\n",
    "        last = (last + 1) % 2\n",
    "        if not last:\n",
    "            texts.append(first + raw_texts[i])\n",
    "        else:\n",
    "            texts.append(second + raw_texts[i])"
   ]
  },
  {
   "cell_type": "code",
   "execution_count": 14,
   "id": "80b91ea5",
   "metadata": {},
   "outputs": [],
   "source": [
    "\"\"\"\n",
    "first = \"@@ПЕРВЫЙ@@ \"\n",
    "second = \" @@ВТОРОЙ@@ \"\n",
    "texts = [first + raw_texts[0]]\n",
    "#last = 0\n",
    "for i in range(1, len(raw_texts)):\n",
    "    if users[i] == users[i-1]:\n",
    "        texts[-1] += \". \" + raw_texts[i]\n",
    "    else:\n",
    "        texts[-1] += second + raw_texts[i]\n",
    "        texts.append(first + raw_texts[i])\n",
    "        #last = (last + 1) % 2\n",
    "        #if not last:\n",
    "        #    texts.append(first + raw_texts[i])\n",
    "        #else:\n",
    "        #    texts.append(second + raw_texts[i])\n",
    "\"\"\""
   ]
  },
  {
   "cell_type": "code",
   "execution_count": 55,
   "id": "2bd27d45",
   "metadata": {},
   "outputs": [
    {
     "data": {
      "text/plain": [
       "['@@ПЕРВЫЙ@@ Здравствуйте всем. Я хоть и плохо играю в шахматы) но охото поиграть с кем нибудь в новом году',\n",
       " '@@ВТОРОЙ@@ Всем привет! Присоединяюсь 😁',\n",
       " '@@ПЕРВЫЙ@@ Заработало))) рад всех видеть))',\n",
       " '@@ВТОРОЙ@@ Эх жалко прям перед каникулами клуба)',\n",
       " '@@ПЕРВЫЙ@@ Это задел на светлое будущее)',\n",
       " '@@ВТОРОЙ@@ Чтобы никто не остался без партнёра по игре в 2020! 😁',\n",
       " '@@ПЕРВЫЙ@@ Добавляйте своих шахматных друзей, к сожалению у нас есть не все телефоны...',\n",
       " '@@ВТОРОЙ@@ Привет! И с Наступающим! \\nНадо собраться в формате 20/20 в новом году!',\n",
       " '@@ПЕРВЫЙ@@ Очень круто , что группа создана, пару раз приезжал в WCC и пусто) теперь думаю все будет ок!)))',\n",
       " '@@ВТОРОЙ@@ С Наступающим НГ! офигенный бар!']"
      ]
     },
     "execution_count": 55,
     "metadata": {},
     "output_type": "execute_result"
    }
   ],
   "source": [
    "texts[:10]"
   ]
  },
  {
   "cell_type": "code",
   "execution_count": 56,
   "id": "ef688194",
   "metadata": {},
   "outputs": [],
   "source": [
    "from transformers import Trainer, TrainingArguments"
   ]
  },
  {
   "cell_type": "markdown",
   "id": "8db46a34",
   "metadata": {},
   "source": [
    "Токенизируем собранные тексты"
   ]
  },
  {
   "cell_type": "code",
   "execution_count": 57,
   "id": "6945df40",
   "metadata": {},
   "outputs": [
    {
     "data": {
      "text/plain": [
       "{'input_ids': tensor([[50257, 10288,  1514,  ...,     0,     0,     0],\n",
       "        [50258,  7914,  6129,  ...,     0,     0,     0],\n",
       "        [50257,   999,  2050,  ...,     0,     0,     0],\n",
       "        ...,\n",
       "        [50258,  9543,    16,  ...,     0,     0,     0],\n",
       "        [50257,  5452,  2696,  ...,     0,     0,     0],\n",
       "        [50258,   981,    16,  ...,     0,     0,     0]]), 'attention_mask': tensor([[1, 1, 1,  ..., 0, 0, 0],\n",
       "        [1, 1, 1,  ..., 0, 0, 0],\n",
       "        [1, 1, 1,  ..., 0, 0, 0],\n",
       "        ...,\n",
       "        [1, 1, 1,  ..., 0, 0, 0],\n",
       "        [1, 1, 1,  ..., 0, 0, 0],\n",
       "        [1, 1, 1,  ..., 0, 0, 0]])}"
      ]
     },
     "execution_count": 57,
     "metadata": {},
     "output_type": "execute_result"
    }
   ],
   "source": [
    "inputs = tokenizer(texts, return_tensors='pt', truncation=True, padding=True, max_length=256)\n",
    "inputs"
   ]
  },
  {
   "cell_type": "markdown",
   "id": "383f0898",
   "metadata": {},
   "source": [
    "Создаем датасет и разделяем его на обучающий и валидационный в пропорции 4:1"
   ]
  },
  {
   "cell_type": "code",
   "execution_count": 58,
   "id": "691f9acf",
   "metadata": {},
   "outputs": [],
   "source": [
    "from torch.utils.data import Dataset\n",
    "\n",
    "class TextDataset(Dataset):\n",
    "    def __init__(self, data):\n",
    "        self.data = data\n",
    "        self.data[\"labels\"] = data[\"input_ids\"]\n",
    "\n",
    "    def __len__(self):\n",
    "        return len(self.data[\"input_ids\"])\n",
    "\n",
    "    def __getitem__(self, idx):\n",
    "        return {key: value[idx] for key, value in self.data.items()}\n",
    "\n",
    "threshold = int(0.8 * len(inputs.data[\"input_ids\"]))\n",
    "train_data = {\n",
    "    key: value[:threshold] for key, value in inputs.data.items()\n",
    "}\n",
    "val_data = {\n",
    "    key: value[threshold:] for key, value in inputs.data.items()\n",
    "}\n",
    "\n",
    "train_dataset = TextDataset(train_data)\n",
    "val_dataset = TextDataset(val_data)"
   ]
  },
  {
   "cell_type": "markdown",
   "id": "64ff3717",
   "metadata": {},
   "source": [
    "В качестве максимальной длины токеннизированного сообщения я выбрал 256. Посмотрим, в скольких сообщениях нет паддинга (возможно, они обрезаны)"
   ]
  },
  {
   "cell_type": "code",
   "execution_count": 73,
   "id": "97e5d887",
   "metadata": {},
   "outputs": [
    {
     "data": {
      "text/plain": [
       "31"
      ]
     },
     "execution_count": 73,
     "metadata": {},
     "output_type": "execute_result"
    }
   ],
   "source": [
    "cnt = 0\n",
    "for x in train_dataset:\n",
    "    if x[\"attention_mask\"][-1] == 1:\n",
    "        cnt += 1\n",
    "        #rint(x)\n",
    "cnt"
   ]
  },
  {
   "cell_type": "code",
   "execution_count": 60,
   "id": "caeb2927",
   "metadata": {},
   "outputs": [
    {
     "name": "stdout",
     "output_type": "stream",
     "text": [
      "33612\n"
     ]
    }
   ],
   "source": [
    "print(len(train_dataset))"
   ]
  },
  {
   "cell_type": "markdown",
   "id": "2c101422",
   "metadata": {},
   "source": [
    "Таких сообщений получилось очень мало, и вряд ли обрезанная часть несет какую-то важную информацию, поэтому я считаю 256 оптимальным вариантом"
   ]
  },
  {
   "cell_type": "markdown",
   "id": "b152177c",
   "metadata": {},
   "source": [
    "У моделей HuggingFace есть встроенные методы для дообучения, используя которые не нужно самостоятельно создавать классы моделей и настраивать пайплайн обучения.\n",
    "\n",
    "Сохраним исходную модель, зададим параметры обучения и запустим его."
   ]
  },
  {
   "cell_type": "code",
   "execution_count": 62,
   "id": "9da80555",
   "metadata": {},
   "outputs": [
    {
     "name": "stderr",
     "output_type": "stream",
     "text": [
      "Configuration saved in original_model\\config.json\n",
      "Model weights saved in original_model\\pytorch_model.bin\n"
     ]
    }
   ],
   "source": [
    "model.save_pretrained(\"original_model\")"
   ]
  },
  {
   "cell_type": "code",
   "execution_count": 61,
   "id": "012681b1",
   "metadata": {},
   "outputs": [
    {
     "name": "stderr",
     "output_type": "stream",
     "text": [
      "PyTorch: setting up devices\n",
      "The default value for the training argument `--report_to` will change in v5 (from all installed integrations to none). In v5, you will need to use `--report_to all` to get the same behavior as now. You should start updating your code and make this info disappear :-).\n"
     ]
    }
   ],
   "source": [
    "training_args = TrainingArguments(\n",
    "    per_device_train_batch_size=2,\n",
    "    num_train_epochs=1, #при обучении на нескольких эпохах модель заметно переобучается\n",
    "    save_steps=5000,\n",
    "    output_dir='./model_output',\n",
    "    overwrite_output_dir=True,\n",
    "    do_train=True,\n",
    "    disable_tqdm = False,\n",
    "    evaluation_strategy=\"steps\",\n",
    "    eval_steps=5000\n",
    ")"
   ]
  },
  {
   "cell_type": "code",
   "execution_count": 63,
   "id": "a4c2a648",
   "metadata": {},
   "outputs": [],
   "source": [
    "trainer = Trainer(\n",
    "    model=model,\n",
    "    args=training_args,\n",
    "    train_dataset=train_dataset,\n",
    "    eval_dataset=val_dataset\n",
    ")"
   ]
  },
  {
   "cell_type": "markdown",
   "id": "6b1db901",
   "metadata": {},
   "source": [
    "Проверим качество оригинальной модели на валидационных данных до начала дообучения"
   ]
  },
  {
   "cell_type": "code",
   "execution_count": 65,
   "id": "dabbf784",
   "metadata": {},
   "outputs": [
    {
     "name": "stderr",
     "output_type": "stream",
     "text": [
      "***** Running Evaluation *****\n",
      "  Num examples = 8404\n",
      "  Batch size = 8\n"
     ]
    },
    {
     "data": {
      "text/html": [
       "\n",
       "    <div>\n",
       "      \n",
       "      <progress value='2102' max='1051' style='width:300px; height:20px; vertical-align: middle;'></progress>\n",
       "      [1051/1051 1:51:15]\n",
       "    </div>\n",
       "    "
      ],
      "text/plain": [
       "<IPython.core.display.HTML object>"
      ]
     },
     "metadata": {},
     "output_type": "display_data"
    },
    {
     "data": {
      "text/plain": [
       "{'eval_loss': 27.32219886779785,\n",
       " 'eval_runtime': 828.4204,\n",
       " 'eval_samples_per_second': 10.145,\n",
       " 'eval_steps_per_second': 1.269}"
      ]
     },
     "execution_count": 65,
     "metadata": {},
     "output_type": "execute_result"
    }
   ],
   "source": [
    "trainer.evaluate()"
   ]
  },
  {
   "cell_type": "code",
   "execution_count": 66,
   "id": "1e8c6e81",
   "metadata": {},
   "outputs": [
    {
     "name": "stderr",
     "output_type": "stream",
     "text": [
      "C:\\Users\\Daniel\\anaconda3\\envs\\dl\\lib\\site-packages\\transformers\\optimization.py:306: FutureWarning: This implementation of AdamW is deprecated and will be removed in a future version. Use the PyTorch implementation torch.optim.AdamW instead, or set `no_deprecation_warning=True` to disable this warning\n",
      "  warnings.warn(\n",
      "***** Running training *****\n",
      "  Num examples = 33612\n",
      "  Num Epochs = 1\n",
      "  Instantaneous batch size per device = 2\n",
      "  Total train batch size (w. parallel, distributed & accumulation) = 2\n",
      "  Gradient Accumulation steps = 1\n",
      "  Total optimization steps = 16806\n",
      "  Number of trainable parameters = 355875840\n"
     ]
    },
    {
     "data": {
      "text/html": [
       "\n",
       "    <div>\n",
       "      \n",
       "      <progress value='16806' max='16806' style='width:300px; height:20px; vertical-align: middle;'></progress>\n",
       "      [16806/16806 5:39:11, Epoch 1/1]\n",
       "    </div>\n",
       "    <table border=\"1\" class=\"dataframe\">\n",
       "  <thead>\n",
       " <tr style=\"text-align: left;\">\n",
       "      <th>Step</th>\n",
       "      <th>Training Loss</th>\n",
       "      <th>Validation Loss</th>\n",
       "    </tr>\n",
       "  </thead>\n",
       "  <tbody>\n",
       "    <tr>\n",
       "      <td>5000</td>\n",
       "      <td>0.273400</td>\n",
       "      <td>0.356852</td>\n",
       "    </tr>\n",
       "    <tr>\n",
       "      <td>10000</td>\n",
       "      <td>0.305400</td>\n",
       "      <td>0.350833</td>\n",
       "    </tr>\n",
       "    <tr>\n",
       "      <td>15000</td>\n",
       "      <td>0.275700</td>\n",
       "      <td>0.345955</td>\n",
       "    </tr>\n",
       "  </tbody>\n",
       "</table><p>"
      ],
      "text/plain": [
       "<IPython.core.display.HTML object>"
      ]
     },
     "metadata": {},
     "output_type": "display_data"
    },
    {
     "name": "stderr",
     "output_type": "stream",
     "text": [
      "***** Running Evaluation *****\n",
      "  Num examples = 8404\n",
      "  Batch size = 8\n",
      "Saving model checkpoint to ./model_output\\checkpoint-5000\n",
      "Configuration saved in ./model_output\\checkpoint-5000\\config.json\n",
      "Model weights saved in ./model_output\\checkpoint-5000\\pytorch_model.bin\n",
      "***** Running Evaluation *****\n",
      "  Num examples = 8404\n",
      "  Batch size = 8\n",
      "Saving model checkpoint to ./model_output\\checkpoint-10000\n",
      "Configuration saved in ./model_output\\checkpoint-10000\\config.json\n",
      "Model weights saved in ./model_output\\checkpoint-10000\\pytorch_model.bin\n",
      "***** Running Evaluation *****\n",
      "  Num examples = 8404\n",
      "  Batch size = 8\n",
      "Saving model checkpoint to ./model_output\\checkpoint-15000\n",
      "Configuration saved in ./model_output\\checkpoint-15000\\config.json\n",
      "Model weights saved in ./model_output\\checkpoint-15000\\pytorch_model.bin\n",
      "\n",
      "\n",
      "Training completed. Do not forget to share your model on huggingface.co/models =)\n",
      "\n",
      "\n"
     ]
    },
    {
     "data": {
      "text/plain": [
       "TrainOutput(global_step=16806, training_loss=0.2978854185624391, metrics={'train_runtime': 20351.398, 'train_samples_per_second': 1.652, 'train_steps_per_second': 0.826, 'total_flos': 1.5607743872237568e+16, 'train_loss': 0.2978854185624391, 'epoch': 1.0})"
      ]
     },
     "execution_count": 66,
     "metadata": {},
     "output_type": "execute_result"
    }
   ],
   "source": [
    "trainer.train()"
   ]
  },
  {
   "cell_type": "markdown",
   "id": "684acce0",
   "metadata": {},
   "source": [
    "После дообучения сохраним модель"
   ]
  },
  {
   "cell_type": "code",
   "execution_count": 68,
   "id": "e7dd5ca4",
   "metadata": {},
   "outputs": [
    {
     "name": "stderr",
     "output_type": "stream",
     "text": [
      "Configuration saved in fine-tuned ccm2\\config.json\n",
      "Model weights saved in fine-tuned ccm2\\pytorch_model.bin\n"
     ]
    }
   ],
   "source": [
    "model.save_pretrained(\"fine-tuned ccm2\")"
   ]
  },
  {
   "cell_type": "markdown",
   "id": "010a45de",
   "metadata": {},
   "source": [
    "Несмотря на то, что при дообучении была передана маска внимания, символы паддинга все равно попадают в генерацию. Очистим сгенерированный текст от них, а также от меток @@ПЕРВЫЙ@@ и @@ВТОРОЙ@@"
   ]
  },
  {
   "cell_type": "code",
   "execution_count": 74,
   "id": "2581f124",
   "metadata": {},
   "outputs": [],
   "source": [
    "def extract_response(text, start_marker=\"@@ВТОРОЙ@@\", end_marker=\"@@ПЕРВЫЙ@@\"):\n",
    "    text = re.sub(r'<pad>', '', text)\n",
    "    \n",
    "    match = re.search(f\"{re.escape(start_marker)}(.+?){re.escape(end_marker)}\", text)\n",
    "    if match:\n",
    "        return match.group(1).strip()\n",
    "    \n",
    "    match = re.search(f\"{re.escape(start_marker)}(.+)\", text)\n",
    "    if match:\n",
    "        return match.group(1).strip()\n",
    "    \n",
    "    return \"ОШИБКА\""
   ]
  },
  {
   "cell_type": "code",
   "execution_count": 130,
   "id": "f8effde0",
   "metadata": {},
   "outputs": [
    {
     "name": "stderr",
     "output_type": "stream",
     "text": [
      "Setting `pad_token_id` to `eos_token_id`:50261 for open-end generation.\n"
     ]
    },
    {
     "data": {
      "text/plain": [
       "['🤣🙌🏻\\u200d♀️',\n",
       " '🤣👌🏻🙏💫. я бы с удовольствием поиграл, но у меня нет компа, поэтому и не знаю, как это сделать)',\n",
       " '🤣🙈. а какой у тебя рейтинг?']"
      ]
     },
     "execution_count": 130,
     "metadata": {},
     "output_type": "execute_result"
    }
   ],
   "source": [
    "model.to('cpu')\n",
    "inputs = tokenizer('@@ПЕРВЫЙ@@ привет, ты играешь в шахматы? @@ВТОРОЙ@@ ', return_tensors='pt')\n",
    "generated_token_ids = model.generate(\n",
    "    **inputs,\n",
    "    top_k=10,\n",
    "    top_p=0.95,\n",
    "    num_beams=5,\n",
    "    num_return_sequences=3,\n",
    "    do_sample=True,\n",
    "    no_repeat_ngram_size=2,\n",
    "    temperature=1.3,\n",
    "    repetition_penalty=1.2,\n",
    "    length_penalty=1,\n",
    "    eos_token_id=tokenizer.eos_token_id,\n",
    "    max_new_tokens=40\n",
    ")\n",
    "context_with_response = [tokenizer.decode(sample_token_ids) for sample_token_ids in generated_token_ids]\n",
    "context_with_response_cleaned = [extract_response(text) for text in context_with_response]\n",
    "context_with_response_cleaned"
   ]
  },
  {
   "cell_type": "markdown",
   "id": "fefbe4eb",
   "metadata": {},
   "source": [
    "Норм"
   ]
  },
  {
   "cell_type": "markdown",
   "id": "d46205c3",
   "metadata": {},
   "source": [
    "Теперь обернем это в бота: https://t.me/chess_club_moscow_gpt_bot"
   ]
  },
  {
   "cell_type": "code",
   "execution_count": null,
   "id": "2de85748",
   "metadata": {},
   "outputs": [],
   "source": []
  }
 ],
 "metadata": {
  "kernelspec": {
   "display_name": "dl",
   "language": "python",
   "name": "dl"
  },
  "language_info": {
   "codemirror_mode": {
    "name": "ipython",
    "version": 3
   },
   "file_extension": ".py",
   "mimetype": "text/x-python",
   "name": "python",
   "nbconvert_exporter": "python",
   "pygments_lexer": "ipython3",
   "version": "3.8.0"
  },
  "varInspector": {
   "cols": {
    "lenName": 16,
    "lenType": 16,
    "lenVar": 40
   },
   "kernels_config": {
    "python": {
     "delete_cmd_postfix": "",
     "delete_cmd_prefix": "del ",
     "library": "var_list.py",
     "varRefreshCmd": "print(var_dic_list())"
    },
    "r": {
     "delete_cmd_postfix": ") ",
     "delete_cmd_prefix": "rm(",
     "library": "var_list.r",
     "varRefreshCmd": "cat(var_dic_list()) "
    }
   },
   "types_to_exclude": [
    "module",
    "function",
    "builtin_function_or_method",
    "instance",
    "_Feature"
   ],
   "window_display": false
  }
 },
 "nbformat": 4,
 "nbformat_minor": 5
}
